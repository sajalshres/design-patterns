{
 "cells": [
  {
   "cell_type": "markdown",
   "metadata": {},
   "source": [
    "# Python"
   ]
  },
  {
   "cell_type": "code",
   "execution_count": 4,
   "metadata": {},
   "outputs": [
    {
     "name": "stdout",
     "output_type": "stream",
     "text": [
      "dog कुकुर\n",
      "cat बिरालो\n",
      "rat rat\n"
     ]
    }
   ],
   "source": [
    "# Language localizer\n",
    "\n",
    "class EnglishLocalizer:\n",
    "    def localize(self, message):\n",
    "        return message\n",
    "\n",
    "class NepaliLocalizer:\n",
    "    def __init__(self):\n",
    "        self._translations = {\n",
    "            \"dog\": \"कुकुर\",\n",
    "            \"cat\": \"बिरालो\"\n",
    "        }\n",
    "    \n",
    "    def localize(self, message):\n",
    "        return self._translations.get(message, message)\n",
    "\n",
    "def get_localizer(language=\"English\"):\n",
    "    localizers = {\n",
    "        \"English\": EnglishLocalizer,\n",
    "        \"Nepali\": NepaliLocalizer\n",
    "    }\n",
    "\n",
    "    return localizers[language]()\n",
    "\n",
    "\n",
    "if __name__ == \"__main__\":\n",
    "    english = get_localizer(language=\"English\")\n",
    "    nepali = get_localizer(language=\"Nepali\")\n",
    "\n",
    "    for message in \"dog cat rat\".split():\n",
    "        print(english.localize(message), nepali.localize(message))"
   ]
  },
  {
   "cell_type": "code",
   "execution_count": 5,
   "metadata": {},
   "outputs": [
    {
     "name": "stdout",
     "output_type": "stream",
     "text": [
      "1 details\n",
      "{'id': 1, 'name': 'example'} created.\n",
      "{'id': 1, 'name': 'example'} with 1 updated\n",
      "item with 1 removed\n",
      "1 details\n",
      "{'id': 1, 'name': 'example'} created.\n",
      "{'id': 1, 'name': 'example'} with 1 updated\n",
      "item with 1 removed\n"
     ]
    }
   ],
   "source": [
    "# Database manager\n",
    "\n",
    "class FileDatabase:\n",
    "\n",
    "    def get(self, id):\n",
    "        return f\"{id} details\"\n",
    "\n",
    "    def create(self, item):\n",
    "        return f\"{item} created.\"\n",
    "\n",
    "    def update(self, id, item):\n",
    "        return f\"{item} with {id} updated\"\n",
    "\n",
    "    def delete(self, id):\n",
    "        return f\"item with {id} removed\"\n",
    "\n",
    "\n",
    "class RelationalDatabase:\n",
    "\n",
    "    def get(self, id):\n",
    "        return f\"{id} details\"\n",
    "\n",
    "    def create(self, item):\n",
    "        return f\"{item} created.\"\n",
    "\n",
    "    def update(self, id, item):\n",
    "        return f\"{item} with {id} updated\"\n",
    "\n",
    "    def delete(self, id):\n",
    "        return f\"item with {id} removed\"\n",
    "\n",
    "\n",
    "def database_manager(type):\n",
    "    database_types = {\n",
    "        \"file\": FileDatabase,\n",
    "        \"relational\": RelationalDatabase\n",
    "    }\n",
    "\n",
    "    return database_types[type]()\n",
    "\n",
    "if __name__ == \"__main__\":\n",
    "    for type in {\"file\", \"relational\"}:\n",
    "        database = database_manager(type=type)\n",
    "        print(database.get(1))\n",
    "        print(database.create(item={\"id\": 1, \"name\": \"example\"}))\n",
    "        print(database.update(id=1, item={\"id\": 1, \"name\": \"example\"}))\n",
    "        print(database.delete(1))\n"
   ]
  },
  {
   "cell_type": "code",
   "execution_count": null,
   "metadata": {},
   "outputs": [],
   "source": []
  }
 ],
 "metadata": {
  "kernelspec": {
   "display_name": "Python 3",
   "language": "python",
   "name": "python3"
  },
  "language_info": {
   "codemirror_mode": {
    "name": "ipython",
    "version": 3
   },
   "file_extension": ".py",
   "mimetype": "text/x-python",
   "name": "python",
   "nbconvert_exporter": "python",
   "pygments_lexer": "ipython3",
   "version": "3.8.2"
  }
 },
 "nbformat": 4,
 "nbformat_minor": 4
}
