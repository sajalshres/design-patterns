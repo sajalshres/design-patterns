{
 "metadata": {},
 "nbformat": 4,
 "nbformat_minor": 2,
 "cells": [
  {
   "source": [
    "# Python"
   ],
   "cell_type": "markdown",
   "metadata": {
    "tags": []
   }
  },
  {
   "source": [
    "## Conceptual Example"
   ],
   "cell_type": "markdown",
   "metadata": {}
  },
  {
   "cell_type": "code",
   "execution_count": 10,
   "metadata": {
    "tags": []
   },
   "outputs": [
    {
     "output_type": "stream",
     "name": "stdout",
     "text": "Car 1: car-2000-Red-4\nCar 2: car-3200-Blue-4\n"
    }
   ],
   "source": [
    "import copy\n",
    "\n",
    "class Prototype:\n",
    "\n",
    "    def __init__(self):\n",
    "        self._objects = {}\n",
    "    \n",
    "    def register(self, name, obj):\n",
    "        self._objects[name] = obj\n",
    "    \n",
    "    def unregister(self, name):\n",
    "        return self._objects.pop(name)\n",
    "    \n",
    "    def clone(self, name, **kwargs):\n",
    "        clonedObject = copy.deepcopy(self._objects.get(name))\n",
    "        clonedObject.__dict__.update(kwargs)\n",
    "        return clonedObject\n",
    "\n",
    "class Car:\n",
    "    def __init__(self):\n",
    "        self.engine = 2000\n",
    "        self.color = \"Red\"\n",
    "        self.seats = 4\n",
    "    \n",
    "    def __str__(self):\n",
    "        return f\"car-{self.engine}-{self.color}-{self.seats}\"\n",
    "\n",
    "if __name__ == \"__main__\":\n",
    "    # Prototypical object of class Car\n",
    "    car = Car()\n",
    "    \n",
    "    # Instance of Prototype\n",
    "    prototype = Prototype()\n",
    "    # Register the object that can be cloned\n",
    "    prototype.register('car', car)\n",
    "\n",
    "    # Using clone method to create a clone of the object car\n",
    "    car_1 = prototype.clone('car')\n",
    "    print(\"Car 1:\", car_1)\n",
    "    \n",
    "    # Another clone of the object car with different attributes/conigurations\n",
    "    car_2 = prototype.clone('car', color = \"Blue\", engine = 3200)\n",
    "    print(\"Car 2:\", car_2)\n",
    "\n"
   ]
  },
  {
   "cell_type": "code",
   "execution_count": null,
   "metadata": {},
   "outputs": [],
   "source": []
  }
 ]
}
