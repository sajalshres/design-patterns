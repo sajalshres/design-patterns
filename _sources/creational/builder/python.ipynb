{
 "cells": [
  {
   "cell_type": "markdown",
   "metadata": {},
   "source": [
    "# Python"
   ]
  },
  {
   "cell_type": "markdown",
   "metadata": {},
   "source": [
    "## Simple example\n",
    "- Uses abstract base class `Building`\n",
    "- The `__init__` method specifies the steps needed\n",
    "- The concrete subclasses `Bunglow` and `Mansion` actually implements the steps needed."
   ]
  },
  {
   "cell_type": "code",
   "execution_count": 5,
   "metadata": {},
   "outputs": [
    {
     "name": "stdout",
     "output_type": "stream",
     "text": [
      "Floor: 1 | Size: small\n"
     ]
    }
   ],
   "source": [
    "from abc import ABCMeta, abstractmethod\n",
    "\n",
    "# Abstract Building\n",
    "class Building(metaclass=ABCMeta):\n",
    "    def __init__(self):\n",
    "        self.build_floor()\n",
    "        self.build_size()\n",
    "    \n",
    "    @abstractmethod\n",
    "    def build_floor(self):\n",
    "        pass\n",
    "    \n",
    "    @abstractmethod\n",
    "    def build_size(self):\n",
    "        pass\n",
    "    \n",
    "    def __repr__(self):\n",
    "        return f\"Floor: {self.floor} | Size: {self.size}\"\n",
    "\n",
    "# Concrete Building\n",
    "class Bunglow(Building):\n",
    "    def build_floor(self):\n",
    "        self.floor = 1\n",
    "    \n",
    "    def build_size(self):\n",
    "        self.size = \"small\"\n",
    "\n",
    "class Mansion(Building):\n",
    "    def build_floor(self):\n",
    "        self.floor = 2\n",
    "    \n",
    "    def build_size(self):\n",
    "        self.size = \"large\"\n",
    "\n",
    "if __name__ == \"__main__\":\n",
    "    bunglow = Bunglow()\n",
    "    print(bunglow)\n",
    "    "
   ]
  },
  {
   "cell_type": "markdown",
   "metadata": {},
   "source": [
    "## Complex example\n",
    "\n",
    "- Sometimes, it may be required to delegate the building process to another `function` or a `class`"
   ]
  },
  {
   "cell_type": "code",
   "execution_count": 7,
   "metadata": {},
   "outputs": [
    {
     "name": "stdout",
     "output_type": "stream",
     "text": [
      "Floor: 3 | Size: large and premium\n"
     ]
    }
   ],
   "source": [
    "class PremiumBuilding:\n",
    "    def __repr__(self):\n",
    "        return f\"Floor: {self.floor} | Size: {self.size}\"\n",
    "\n",
    "class PremiumBunglow(PremiumBuilding):\n",
    "    def build_floor(self):\n",
    "        self.floor = 3\n",
    "    \n",
    "    def build_size(self):\n",
    "        self.size = \"large and premium\"\n",
    "        \n",
    "def construct_building(cls):\n",
    "    building = cls()\n",
    "    building.build_floor()\n",
    "    building.build_size()\n",
    "    return building\n",
    "\n",
    "if __name__ == \"__main__\":\n",
    "    premium_bunglow = construct_building(PremiumBunglow)\n",
    "    print(premium_bunglow)"
   ]
  },
  {
   "cell_type": "code",
   "execution_count": 16,
   "metadata": {},
   "outputs": [
    {
     "name": "stdout",
     "output_type": "stream",
     "text": [
      "Building base product\n",
      "Product parts: PartA1\n",
      "\n",
      "Building advanced product\n",
      "Product parts: PartA1, PartB1, PartC1\n",
      "\n",
      "Bulding custom product\n",
      "Product parts: PartA1, PartB1"
     ]
    }
   ],
   "source": [
    "from abc import ABC, abstractmethod, abstractproperty\n",
    "from typing import Any\n",
    "\n",
    "class Product1:\n",
    "    def __init__(self) -> None:\n",
    "        self.parts = []\n",
    "    \n",
    "    def add(self, part: Any) -> None:\n",
    "        self.parts.append(part)\n",
    "    \n",
    "    def list_parts(self) -> None:\n",
    "        print(f\"Product parts: {', '.join(self.parts)}\", end=\"\")\n",
    "\n",
    "\n",
    "class Builder(ABC):\n",
    "    \n",
    "    @abstractproperty\n",
    "    def product(self) -> None:\n",
    "        pass\n",
    "    \n",
    "    @abstractmethod\n",
    "    def produce_part_a(self) -> None:\n",
    "        pass\n",
    "    \n",
    "    @abstractmethod\n",
    "    def produce_part_b(self) -> None:\n",
    "        pass\n",
    "    \n",
    "    @abstractmethod\n",
    "    def produce_part_c(self) -> None:\n",
    "        pass\n",
    "\n",
    "    \n",
    "class ConcreteBuilder1(Builder):\n",
    "    \n",
    "    def __init__(self) -> None:\n",
    "        self.reset()\n",
    "        \n",
    "    \n",
    "    def reset(self) -> None:\n",
    "        self._product = Product1()\n",
    "    \n",
    "    @property\n",
    "    def product(self) -> Product1:\n",
    "        product = self._product\n",
    "        self.reset()\n",
    "        return product\n",
    "    \n",
    "    def produce_part_a(self) -> None:\n",
    "        self._product.add(\"PartA1\")\n",
    "    \n",
    "    def produce_part_b(self) -> None:\n",
    "        self._product.add(\"PartB1\")\n",
    "    \n",
    "    def produce_part_c(self) -> None:\n",
    "        self._product.add(\"PartC1\")\n",
    "\n",
    "\n",
    "class Director:\n",
    "    def __init__(self) -> None:\n",
    "        self._builder = None\n",
    "    \n",
    "    @property\n",
    "    def builder(self) -> Builder:\n",
    "        return self._builder\n",
    "    \n",
    "    @builder.setter\n",
    "    def builder(self, builder: Builder) -> None:\n",
    "        self._builder = builder\n",
    "    \n",
    "    \n",
    "    def build_base_product(self) -> None:\n",
    "        self.builder.produce_part_a()\n",
    "    \n",
    "    def build_advanced_product(self) -> None:\n",
    "        self.builder.produce_part_a()\n",
    "        self.builder.produce_part_b()\n",
    "        self.builder.produce_part_c()\n",
    "\n",
    "if __name__ == \"__main__\":\n",
    "    director = Director()\n",
    "    builder = ConcreteBuilder1()\n",
    "    director.builder = builder\n",
    "    \n",
    "    print(\"Building base product\")\n",
    "    director.build_base_product()\n",
    "    builder.product.list_parts()\n",
    "    \n",
    "    print(\"\")\n",
    "    print(\"\")\n",
    "    print(\"Building advanced product\")\n",
    "    director.build_advanced_product()\n",
    "    builder.product.list_parts()\n",
    "    \n",
    "    print(\"\")\n",
    "    print(\"\")\n",
    "    print(\"Bulding custom product\")\n",
    "    builder.produce_part_a()\n",
    "    builder.produce_part_b()\n",
    "    builder.product.list_parts()\n",
    "    \n",
    "        "
   ]
  },
  {
   "cell_type": "code",
   "execution_count": null,
   "metadata": {},
   "outputs": [],
   "source": []
  }
 ],
 "metadata": {
  "kernelspec": {
   "display_name": "Python 3",
   "language": "python",
   "name": "python3"
  },
  "language_info": {
   "codemirror_mode": {
    "name": "ipython",
    "version": 3
   },
   "file_extension": ".py",
   "mimetype": "text/x-python",
   "name": "python",
   "nbconvert_exporter": "python",
   "pygments_lexer": "ipython3",
   "version": "3.8.2"
  }
 },
 "nbformat": 4,
 "nbformat_minor": 4
}
