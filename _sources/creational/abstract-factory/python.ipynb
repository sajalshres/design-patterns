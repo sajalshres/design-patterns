{
 "cells": [
  {
   "cell_type": "markdown",
   "metadata": {},
   "source": [
    "# Python"
   ]
  },
  {
   "cell_type": "code",
   "execution_count": 1,
   "metadata": {},
   "outputs": [
    {
     "name": "stdout",
     "output_type": "stream",
     "text": [
      "Course: Data Science\n",
      "Price: 1000\n"
     ]
    }
   ],
   "source": [
    "# Course abstract factory python implementation\n",
    "\n",
    "class DataScienceCourse:\n",
    "    def price(self):\n",
    "        return 1000\n",
    "    \n",
    "    def __str__(self):\n",
    "        return \"Data Science\"\n",
    "\n",
    "class BasicPythonCourse:\n",
    "    def price(self):\n",
    "        return 400\n",
    "    \n",
    "    def __str__(self):\n",
    "        return \"Basic Python\"\n",
    "\n",
    "class AdvancedPythonCourse:\n",
    "    def price(self):\n",
    "        return 400\n",
    "\n",
    "    def __str__(self):\n",
    "        return \"Advanced Python\"\n",
    "\n",
    "class Course:\n",
    "    def __init__(self, course):\n",
    "        self.course_factory = course\n",
    "    \n",
    "    def course_detail(self):\n",
    "        course = self.course_factory()\n",
    "        print(f\"Course: {course}\")\n",
    "        print(f\"Price: {course.price()}\")\n",
    "\n",
    "if __name__ == \"__main__\":\n",
    "    course = Course(DataScienceCourse)\n",
    "    course.course_detail()\n",
    "        "
   ]
  },
  {
   "cell_type": "code",
   "execution_count": 3,
   "metadata": {},
   "outputs": [
    {
     "name": "stdout",
     "output_type": "stream",
     "text": [
      "Enjoy Premium Car Ride\n"
     ]
    }
   ],
   "source": [
    "# Ride share abstract factory implementation\n",
    "\n",
    "from abc import ABCMeta, abstractmethod\n",
    "\n",
    "# Abstract class\n",
    "\n",
    "\n",
    "class DeluxInterface(metaclass=ABCMeta):\n",
    "    @abstractmethod\n",
    "    def delux_ride(self):\n",
    "        pass\n",
    "\n",
    "\n",
    "class PermiumInterface(metaclass=ABCMeta):\n",
    "    @abstractmethod\n",
    "    def permium_ride(self):\n",
    "        pass\n",
    "\n",
    "\n",
    "class RideFactoryInterface(metaclass=ABCMeta):\n",
    "\n",
    "    @staticmethod\n",
    "    @abstractmethod\n",
    "    def get_ride(category):\n",
    "        pass\n",
    "\n",
    "# Concrete class\n",
    "\n",
    "\n",
    "class CarDeluxRide(DeluxInterface):\n",
    "    def delux_ride(self):\n",
    "        return (\"Enjoy Delux Car Ride\")\n",
    "\n",
    "\n",
    "class BikeDeluxRide(DeluxInterface):\n",
    "    def delux_ride(self):\n",
    "        return (\"Enjoy Delux Bike Ride\")\n",
    "\n",
    "\n",
    "class CarPremiumRide(PermiumInterface):\n",
    "    def permium_ride(self):\n",
    "        return (\"Enjoy Premium Car Ride\")\n",
    "\n",
    "\n",
    "class BikePremiumRide(PermiumInterface):\n",
    "    def permium_ride(self):\n",
    "        return (\"Enjoy Premium Bike Ride\")\n",
    "\n",
    "\n",
    "class Car(RideFactoryInterface):\n",
    "    @staticmethod\n",
    "    def get_ride(category):\n",
    "        ride = {\n",
    "            \"premium\": CarPremiumRide,\n",
    "            \"delux\": CarDeluxRide\n",
    "        }\n",
    "\n",
    "        return ride.get(category)()\n",
    "\n",
    "\n",
    "class Bike(RideFactoryInterface):\n",
    "    @staticmethod\n",
    "    def get_ride(category):\n",
    "        ride = {\n",
    "            \"premium\": BikePremiumRide,\n",
    "            \"delux\": BikeDeluxRide\n",
    "        }\n",
    "\n",
    "        return ride.get(category)()\n",
    "\n",
    "\n",
    "class TransportFactory:\n",
    "    @staticmethod\n",
    "    def get_transport(type, category):\n",
    "        transport = {\n",
    "            \"car\": Car,\n",
    "            \"bike\": Bike\n",
    "        }\n",
    "\n",
    "        return transport.get(type).get_ride(category)\n",
    "\n",
    "\n",
    "if __name__ == \"__main__\":\n",
    "    ride = TransportFactory.get_transport(\"car\", \"premium\")\n",
    "    print(ride.permium_ride())\n"
   ]
  },
  {
   "cell_type": "code",
   "execution_count": null,
   "metadata": {},
   "outputs": [],
   "source": []
  }
 ],
 "metadata": {
  "kernelspec": {
   "display_name": "Python 3",
   "language": "python",
   "name": "python3"
  },
  "language_info": {
   "codemirror_mode": {
    "name": "ipython",
    "version": 3
   },
   "file_extension": ".py",
   "mimetype": "text/x-python",
   "name": "python",
   "nbconvert_exporter": "python",
   "pygments_lexer": "ipython3",
   "version": "3.8.2"
  }
 },
 "nbformat": 4,
 "nbformat_minor": 4
}
